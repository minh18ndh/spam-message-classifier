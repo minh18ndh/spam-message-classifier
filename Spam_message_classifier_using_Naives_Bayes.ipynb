{
  "nbformat": 4,
  "nbformat_minor": 0,
  "metadata": {
    "colab": {
      "provenance": []
    },
    "kernelspec": {
      "name": "python3",
      "display_name": "Python 3"
    },
    "language_info": {
      "name": "python"
    }
  },
  "cells": [
    {
      "cell_type": "code",
      "execution_count": 1,
      "metadata": {
        "id": "MwN63RXZq3t1",
        "colab": {
          "base_uri": "https://localhost:8080/"
        },
        "outputId": "3e7144cb-687c-48dc-a78d-6d5d4694bc83"
      },
      "outputs": [
        {
          "output_type": "stream",
          "name": "stdout",
          "text": [
            "Drive already mounted at /content/drive; to attempt to forcibly remount, call drive.mount(\"/content/drive\", force_remount=True).\n"
          ]
        }
      ],
      "source": [
        "from google.colab import drive\n",
        "drive.mount('/content/drive')"
      ]
    },
    {
      "cell_type": "code",
      "source": [
        "import numpy as np\n",
        "import random\n",
        "import pandas as pd\n",
        "import matplotlib.pyplot as plt\n",
        "import seaborn as sns\n",
        "%matplotlib inline\n",
        "\n",
        "import string\n",
        "import nltk\n",
        "nltk.download('stopwords')\n",
        "from nltk.corpus import stopwords\n",
        "from nltk import PorterStemmer as Stemmer\n",
        "from nltk.stem import WordNetLemmatizer\n",
        "\n",
        "from sklearn.feature_extraction.text import TfidfVectorizer\n",
        "\n",
        "from sklearn.pipeline import Pipeline\n",
        "from sklearn.naive_bayes import MultinomialNB\n",
        "\n",
        "from sklearn.model_selection import train_test_split\n",
        "\n",
        "from sklearn.metrics import classification_report"
      ],
      "metadata": {
        "colab": {
          "base_uri": "https://localhost:8080/"
        },
        "id": "i2ESavPrssc1",
        "outputId": "965476bf-44dc-4dac-c704-7b47f8c58e78"
      },
      "execution_count": 2,
      "outputs": [
        {
          "output_type": "stream",
          "name": "stderr",
          "text": [
            "[nltk_data] Downloading package stopwords to /root/nltk_data...\n",
            "[nltk_data]   Package stopwords is already up-to-date!\n"
          ]
        }
      ]
    },
    {
      "cell_type": "code",
      "source": [
        "spam = pd.read_csv('/content/drive/MyDrive/SPAM text message 20170820 - Data.csv', encoding='ISO-8859-1')\n",
        "print(spam)"
      ],
      "metadata": {
        "colab": {
          "base_uri": "https://localhost:8080/"
        },
        "id": "NPNFFDDds-TI",
        "outputId": "1b48ed96-9da2-43ef-d8b0-02c6be14c5d5"
      },
      "execution_count": 3,
      "outputs": [
        {
          "output_type": "stream",
          "name": "stdout",
          "text": [
            "     label                                            message\n",
            "0      ham  Go until jurong point, crazy.. Available only ...\n",
            "1      ham                      Ok lar... Joking wif u oni...\n",
            "2     spam  Free entry in 2 a wkly comp to win FA Cup fina...\n",
            "3      ham  U dun say so early hor... U c already then say...\n",
            "4      ham  Nah I don't think he goes to usf, he lives aro...\n",
            "...    ...                                                ...\n",
            "5567  spam  This is the 2nd time we have tried 2 contact u...\n",
            "5568   ham              Will Ã¼ b going to esplanade fr home?\n",
            "5569   ham  Pity, * was in mood for that. So...any other s...\n",
            "5570   ham  The guy did some bitching but I acted like i'd...\n",
            "5571   ham                         Rofl. Its true to its name\n",
            "\n",
            "[5572 rows x 2 columns]\n"
          ]
        }
      ]
    },
    {
      "cell_type": "code",
      "source": [
        "total_ham_messages = 0\n",
        "total_spam_messages = 0\n",
        "label = list(spam['label'])\n",
        "\n",
        "for i, message in enumerate(list(spam['label'])):\n",
        "    if label[i] == 'ham':\n",
        "        total_ham_messages += 1\n",
        "    else:\n",
        "        total_spam_messages += 1\n",
        "\n",
        "print(\"Number of ham messages:\", total_ham_messages, \"or\", round(total_ham_messages / (total_ham_messages + total_spam_messages) * 100, 2), \"% of the dataset\")\n",
        "print(\"Number of spam messages:\", total_spam_messages, \"or\", round(total_spam_messages / (total_ham_messages + total_spam_messages) * 100, 2), \"% of the dataset\")"
      ],
      "metadata": {
        "colab": {
          "base_uri": "https://localhost:8080/"
        },
        "id": "nLf2R_CbX8cX",
        "outputId": "adf03eb2-bf89-4102-ec69-9f1c86f67b3b"
      },
      "execution_count": 4,
      "outputs": [
        {
          "output_type": "stream",
          "name": "stdout",
          "text": [
            "Number of ham messages: 4825 or 86.59 % of the dataset\n",
            "Number of spam messages: 747 or 13.41 % of the dataset\n"
          ]
        }
      ]
    },
    {
      "cell_type": "code",
      "source": [
        "def data_process(text):\n",
        "    # case-lowering\n",
        "    text = text.lower()\n",
        "    # remove punctuation\n",
        "    text = ''.join([t for t in text if t not in string.punctuation])\n",
        "    # remove stopwords\n",
        "    text = [t for t in text.split() if t not in stopwords.words('english')]\n",
        "    # stemming\n",
        "    stem = Stemmer()\n",
        "    text = [stem.stem(t) for t in text]\n",
        "    # return token list\n",
        "    return text"
      ],
      "metadata": {
        "id": "GEqQ5C-rtifA"
      },
      "execution_count": 5,
      "outputs": []
    },
    {
      "cell_type": "code",
      "source": [
        "# test with the dataset\n",
        "spam['message'][:11].apply(data_process)"
      ],
      "metadata": {
        "colab": {
          "base_uri": "https://localhost:8080/"
        },
        "id": "UkhqZJ2_tqSl",
        "outputId": "ba598ba3-3916-4e49-89b6-033f61d35847"
      },
      "execution_count": 6,
      "outputs": [
        {
          "output_type": "execute_result",
          "data": {
            "text/plain": [
              "0     [go, jurong, point, crazi, avail, bugi, n, gre...\n",
              "1                          [ok, lar, joke, wif, u, oni]\n",
              "2     [free, entri, 2, wkli, comp, win, fa, cup, fin...\n",
              "3         [u, dun, say, earli, hor, u, c, alreadi, say]\n",
              "4     [nah, dont, think, goe, usf, live, around, tho...\n",
              "5     [freemsg, hey, darl, 3, week, word, back, id, ...\n",
              "6     [even, brother, like, speak, treat, like, aid,...\n",
              "7     [per, request, mell, mell, oru, minnaminungint...\n",
              "8     [winner, valu, network, custom, select, receiv...\n",
              "9     [mobil, 11, month, u, r, entitl, updat, latest...\n",
              "10    [im, gonna, home, soon, dont, want, talk, stuf...\n",
              "Name: message, dtype: object"
            ]
          },
          "metadata": {},
          "execution_count": 6
        }
      ]
    },
    {
      "cell_type": "code",
      "source": [
        "# random test\n",
        "data_process(\"It's 6:45 a.m. in the morning and we are studying at HUST. Life sucks!\")"
      ],
      "metadata": {
        "colab": {
          "base_uri": "https://localhost:8080/"
        },
        "id": "3Zk9AL1JuiJP",
        "outputId": "e79131e8-0f4a-4126-a0cd-f747a8bb5c5f"
      },
      "execution_count": 7,
      "outputs": [
        {
          "output_type": "execute_result",
          "data": {
            "text/plain": [
              "['645', 'morn', 'studi', 'hust', 'life', 'suck']"
            ]
          },
          "metadata": {},
          "execution_count": 7
        }
      ]
    },
    {
      "cell_type": "code",
      "source": [
        "tfidfv = TfidfVectorizer(analyzer=data_process)\n",
        "data = tfidfv.fit_transform(spam['message'])"
      ],
      "metadata": {
        "id": "lGOjPmvwuttE"
      },
      "execution_count": 8,
      "outputs": []
    },
    {
      "cell_type": "code",
      "source": [
        "test_mess = spam.iloc[6]['message']\n",
        "print(test_mess)"
      ],
      "metadata": {
        "colab": {
          "base_uri": "https://localhost:8080/"
        },
        "id": "eHUIlPsnvK2i",
        "outputId": "027617c6-bfe8-4f1a-b96a-3c33f422fd74"
      },
      "execution_count": 9,
      "outputs": [
        {
          "output_type": "stream",
          "name": "stdout",
          "text": [
            "Even my brother is not like to speak with me. They treat me like aids patent.\n"
          ]
        }
      ]
    },
    {
      "cell_type": "code",
      "source": [
        "print(tfidfv.transform([test_mess]))"
      ],
      "metadata": {
        "colab": {
          "base_uri": "https://localhost:8080/"
        },
        "id": "1QtUGgaYvbqP",
        "outputId": "b31d35ca-2f82-4ada-9f47-82931945eae5"
      },
      "execution_count": 10,
      "outputs": [
        {
          "output_type": "stream",
          "name": "stdout",
          "text": [
            "  (0, 7301)\t0.34401730829227406\n",
            "  (0, 6618)\t0.3135180454566497\n",
            "  (0, 5424)\t0.46349458150382344\n",
            "  (0, 4373)\t0.4305926574465684\n",
            "  (0, 2820)\t0.2659732583187343\n",
            "  (0, 1684)\t0.34148566861813384\n",
            "  (0, 1042)\t0.4424556780354621\n"
          ]
        }
      ]
    },
    {
      "cell_type": "code",
      "source": [
        "# more visually\n",
        "arr = tfidfv.transform([test_mess]).toarray()[0]\n",
        "print('index\\tidf\\ttfidf\\tterm')\n",
        "for i in range(len(arr)):\n",
        "    if arr[i] != 0:\n",
        "        print(i, format(tfidfv.idf_[i], '.4f'), format(arr[i], '.4f'), tfidfv.get_feature_names_out()[i], sep='\\t')"
      ],
      "metadata": {
        "colab": {
          "base_uri": "https://localhost:8080/"
        },
        "id": "wv_pw_O5vpKI",
        "outputId": "b7ae078c-7a0c-49c5-e9bf-8e18d2ad1674"
      },
      "execution_count": 11,
      "outputs": [
        {
          "output_type": "stream",
          "name": "stdout",
          "text": [
            "index\tidf\ttfidf\tterm\n",
            "1042\t8.5271\t0.4425\taid\n",
            "1684\t6.5812\t0.3415\tbrother\n",
            "2820\t5.1259\t0.2660\teven\n",
            "4373\t4.1492\t0.4306\tlike\n",
            "5424\t8.9325\t0.4635\tpatent\n",
            "6618\t6.0422\t0.3135\tspeak\n",
            "7301\t6.6300\t0.3440\ttreat\n"
          ]
        }
      ]
    },
    {
      "cell_type": "code",
      "source": [
        "spam_filter = Pipeline([\n",
        "    ('vectorizer', TfidfVectorizer(analyzer = data_process)),       # messages to weighted TFIDF score\n",
        "    ('classifier', MultinomialNB())  ])                             # train on TFIDF vectors with Naive Bayes"
      ],
      "metadata": {
        "id": "4bNTcyxswMlB"
      },
      "execution_count": 12,
      "outputs": []
    },
    {
      "cell_type": "code",
      "source": [
        "# train-test\n",
        "rs = random.randint(4, 44)\n",
        "ts = round(random.uniform(0.15, 0.35), 2)\n",
        "\n",
        "x_train, x_test, y_train, y_test = train_test_split(spam['message'], spam['label'], test_size = ts, random_state = rs)   # after 66 randomizations, ts = 0.24 and rs = 21 performs best\n",
        "#x_train, x_test, y_train, y_test = train_test_split(spam['message'], spam['label'], test_size = 0.24, random_state = 21)\n",
        "\n",
        "print('Test size = ', ts)\n",
        "print('Random state = ', rs)"
      ],
      "metadata": {
        "colab": {
          "base_uri": "https://localhost:8080/"
        },
        "id": "Gh4t2GhWwhnF",
        "outputId": "6f1cda2b-99d2-41cd-bb6c-79b0f57c2c16"
      },
      "execution_count": 125,
      "outputs": [
        {
          "output_type": "stream",
          "name": "stdout",
          "text": [
            "Test size =  0.16\n",
            "Random state =  34\n"
          ]
        }
      ]
    },
    {
      "cell_type": "code",
      "source": [
        "print(y_test)\n",
        "print(x_test)"
      ],
      "metadata": {
        "colab": {
          "base_uri": "https://localhost:8080/"
        },
        "id": "56DGSjwxPicU",
        "outputId": "6455ebf9-de9f-4e25-eddf-eeebd1ed7f1a"
      },
      "execution_count": 126,
      "outputs": [
        {
          "output_type": "stream",
          "name": "stdout",
          "text": [
            "2982     ham\n",
            "2167     ham\n",
            "5319     ham\n",
            "4209     ham\n",
            "2742    spam\n",
            "        ... \n",
            "2396     ham\n",
            "4936     ham\n",
            "1804     ham\n",
            "4911     ham\n",
            "2731     ham\n",
            "Name: label, Length: 1338, dtype: object\n",
            "2982    7 wonders in My WORLD 7th You 6th Ur style 5th...\n",
            "2167              Thank you. And by the way, I just lost.\n",
            "5319                         Kothi print out marandratha.\n",
            "4209    Or i go home first lar Ã¼ wait 4 me lor.. I pu...\n",
            "2742    I don't know u and u don't know me. Send CHAT ...\n",
            "                              ...                        \n",
            "2396               Babe, I'm back ... Come back to me ...\n",
            "4936    Hey babe, how's it going ? Did you ever figure...\n",
            "1804                   I'm in class. Did you get my text.\n",
            "4911    WE REGRET TO INFORM U THAT THE NHS HAS MADE A ...\n",
            "2731                         I havent lei.. Next mon can?\n",
            "Name: message, Length: 1338, dtype: object\n"
          ]
        }
      ]
    },
    {
      "cell_type": "code",
      "source": [
        "# train spam_filter\n",
        "spam_filter.fit(x_train, y_train)"
      ],
      "metadata": {
        "colab": {
          "base_uri": "https://localhost:8080/",
          "height": 124
        },
        "id": "zWx7T2dT0QdJ",
        "outputId": "f94732d3-cfb5-4dc6-a1d2-5af475f42b85"
      },
      "execution_count": 127,
      "outputs": [
        {
          "output_type": "execute_result",
          "data": {
            "text/plain": [
              "Pipeline(steps=[('vectorizer',\n",
              "                 TfidfVectorizer(analyzer=<function data_process at 0x7cef475f11b0>)),\n",
              "                ('classifier', MultinomialNB())])"
            ],
            "text/html": [
              "<style>#sk-container-id-14 {color: black;background-color: white;}#sk-container-id-14 pre{padding: 0;}#sk-container-id-14 div.sk-toggleable {background-color: white;}#sk-container-id-14 label.sk-toggleable__label {cursor: pointer;display: block;width: 100%;margin-bottom: 0;padding: 0.3em;box-sizing: border-box;text-align: center;}#sk-container-id-14 label.sk-toggleable__label-arrow:before {content: \"▸\";float: left;margin-right: 0.25em;color: #696969;}#sk-container-id-14 label.sk-toggleable__label-arrow:hover:before {color: black;}#sk-container-id-14 div.sk-estimator:hover label.sk-toggleable__label-arrow:before {color: black;}#sk-container-id-14 div.sk-toggleable__content {max-height: 0;max-width: 0;overflow: hidden;text-align: left;background-color: #f0f8ff;}#sk-container-id-14 div.sk-toggleable__content pre {margin: 0.2em;color: black;border-radius: 0.25em;background-color: #f0f8ff;}#sk-container-id-14 input.sk-toggleable__control:checked~div.sk-toggleable__content {max-height: 200px;max-width: 100%;overflow: auto;}#sk-container-id-14 input.sk-toggleable__control:checked~label.sk-toggleable__label-arrow:before {content: \"▾\";}#sk-container-id-14 div.sk-estimator input.sk-toggleable__control:checked~label.sk-toggleable__label {background-color: #d4ebff;}#sk-container-id-14 div.sk-label input.sk-toggleable__control:checked~label.sk-toggleable__label {background-color: #d4ebff;}#sk-container-id-14 input.sk-hidden--visually {border: 0;clip: rect(1px 1px 1px 1px);clip: rect(1px, 1px, 1px, 1px);height: 1px;margin: -1px;overflow: hidden;padding: 0;position: absolute;width: 1px;}#sk-container-id-14 div.sk-estimator {font-family: monospace;background-color: #f0f8ff;border: 1px dotted black;border-radius: 0.25em;box-sizing: border-box;margin-bottom: 0.5em;}#sk-container-id-14 div.sk-estimator:hover {background-color: #d4ebff;}#sk-container-id-14 div.sk-parallel-item::after {content: \"\";width: 100%;border-bottom: 1px solid gray;flex-grow: 1;}#sk-container-id-14 div.sk-label:hover label.sk-toggleable__label {background-color: #d4ebff;}#sk-container-id-14 div.sk-serial::before {content: \"\";position: absolute;border-left: 1px solid gray;box-sizing: border-box;top: 0;bottom: 0;left: 50%;z-index: 0;}#sk-container-id-14 div.sk-serial {display: flex;flex-direction: column;align-items: center;background-color: white;padding-right: 0.2em;padding-left: 0.2em;position: relative;}#sk-container-id-14 div.sk-item {position: relative;z-index: 1;}#sk-container-id-14 div.sk-parallel {display: flex;align-items: stretch;justify-content: center;background-color: white;position: relative;}#sk-container-id-14 div.sk-item::before, #sk-container-id-14 div.sk-parallel-item::before {content: \"\";position: absolute;border-left: 1px solid gray;box-sizing: border-box;top: 0;bottom: 0;left: 50%;z-index: -1;}#sk-container-id-14 div.sk-parallel-item {display: flex;flex-direction: column;z-index: 1;position: relative;background-color: white;}#sk-container-id-14 div.sk-parallel-item:first-child::after {align-self: flex-end;width: 50%;}#sk-container-id-14 div.sk-parallel-item:last-child::after {align-self: flex-start;width: 50%;}#sk-container-id-14 div.sk-parallel-item:only-child::after {width: 0;}#sk-container-id-14 div.sk-dashed-wrapped {border: 1px dashed gray;margin: 0 0.4em 0.5em 0.4em;box-sizing: border-box;padding-bottom: 0.4em;background-color: white;}#sk-container-id-14 div.sk-label label {font-family: monospace;font-weight: bold;display: inline-block;line-height: 1.2em;}#sk-container-id-14 div.sk-label-container {text-align: center;}#sk-container-id-14 div.sk-container {/* jupyter's `normalize.less` sets `[hidden] { display: none; }` but bootstrap.min.css set `[hidden] { display: none !important; }` so we also need the `!important` here to be able to override the default hidden behavior on the sphinx rendered scikit-learn.org. See: https://github.com/scikit-learn/scikit-learn/issues/21755 */display: inline-block !important;position: relative;}#sk-container-id-14 div.sk-text-repr-fallback {display: none;}</style><div id=\"sk-container-id-14\" class=\"sk-top-container\"><div class=\"sk-text-repr-fallback\"><pre>Pipeline(steps=[(&#x27;vectorizer&#x27;,\n",
              "                 TfidfVectorizer(analyzer=&lt;function data_process at 0x7cef475f11b0&gt;)),\n",
              "                (&#x27;classifier&#x27;, MultinomialNB())])</pre><b>In a Jupyter environment, please rerun this cell to show the HTML representation or trust the notebook. <br />On GitHub, the HTML representation is unable to render, please try loading this page with nbviewer.org.</b></div><div class=\"sk-container\" hidden><div class=\"sk-item sk-dashed-wrapped\"><div class=\"sk-label-container\"><div class=\"sk-label sk-toggleable\"><input class=\"sk-toggleable__control sk-hidden--visually\" id=\"sk-estimator-id-40\" type=\"checkbox\" ><label for=\"sk-estimator-id-40\" class=\"sk-toggleable__label sk-toggleable__label-arrow\">Pipeline</label><div class=\"sk-toggleable__content\"><pre>Pipeline(steps=[(&#x27;vectorizer&#x27;,\n",
              "                 TfidfVectorizer(analyzer=&lt;function data_process at 0x7cef475f11b0&gt;)),\n",
              "                (&#x27;classifier&#x27;, MultinomialNB())])</pre></div></div></div><div class=\"sk-serial\"><div class=\"sk-item\"><div class=\"sk-estimator sk-toggleable\"><input class=\"sk-toggleable__control sk-hidden--visually\" id=\"sk-estimator-id-41\" type=\"checkbox\" ><label for=\"sk-estimator-id-41\" class=\"sk-toggleable__label sk-toggleable__label-arrow\">TfidfVectorizer</label><div class=\"sk-toggleable__content\"><pre>TfidfVectorizer(analyzer=&lt;function data_process at 0x7cef475f11b0&gt;)</pre></div></div></div><div class=\"sk-item\"><div class=\"sk-estimator sk-toggleable\"><input class=\"sk-toggleable__control sk-hidden--visually\" id=\"sk-estimator-id-42\" type=\"checkbox\" ><label for=\"sk-estimator-id-42\" class=\"sk-toggleable__label sk-toggleable__label-arrow\">MultinomialNB</label><div class=\"sk-toggleable__content\"><pre>MultinomialNB()</pre></div></div></div></div></div></div></div>"
            ]
          },
          "metadata": {},
          "execution_count": 127
        }
      ]
    },
    {
      "cell_type": "code",
      "source": [
        "# predict each test case using the x_test part of the dataset\n",
        "predictions = spam_filter.predict(x_test)"
      ],
      "metadata": {
        "id": "2MN6A7hYwv2P"
      },
      "execution_count": 128,
      "outputs": []
    },
    {
      "cell_type": "code",
      "source": [
        "# wrong predictions\n",
        "x_test[y_test != predictions]"
      ],
      "metadata": {
        "colab": {
          "base_uri": "https://localhost:8080/"
        },
        "id": "ascCFCuSxPGX",
        "outputId": "e4a9fe05-61bc-4c93-9980-52165ce05d9b"
      },
      "execution_count": 129,
      "outputs": [
        {
          "output_type": "execute_result",
          "data": {
            "text/plain": [
              "2742    I don't know u and u don't know me. Send CHAT ...\n",
              "3942    Free Msg: get Gnarls Barkleys \"Crazy\" ringtone...\n",
              "2079                       85233 FREE>Ringtone!Reply REAL\n",
              "1069    Someone U know has asked our dating service 2 ...\n",
              "4968    You can donate Â£2.50 to UNICEF's Asian Tsunam...\n",
              "3360    Sorry I missed your call let's talk when you h...\n",
              "607     XCLUSIVE@CLUBSAISAI 2MOROW 28/5 SOIREE SPECIAL...\n",
              "4643    You are being ripped off! Get your mobile cont...\n",
              "2915    Sorry! U can not unsubscribe yet. THE MOB offe...\n",
              "4460    Welcome to UK-mobile-date this msg is FREE giv...\n",
              "3862    Free Msg: Ringtone!From: http://tms. widelive....\n",
              "3981                                   ringtoneking 84484\n",
              "2364    Fantasy Football is back on your TV. Go to Sky...\n",
              "5466    http//tms. widelive.com/index. wml?id=820554ad...\n",
              "1544    Hello from Orange. For 1 month's free access t...\n",
              "2003    TheMob>Yo yo yo-Here comes a new selection of ...\n",
              "3954    Refused a loan? Secured or Unsecured? Can't ge...\n",
              "2965    Do you ever notice that when you're driving, a...\n",
              "2378    YES! The only place in town to meet exciting a...\n",
              "4862                               Nokia phone is lovly..\n",
              "3856    Free msg: Single? Find a partner in your area!...\n",
              "5041    Natalie (20/F) is inviting you to be her frien...\n",
              "492     Congrats! 1 year special cinema pass for 2 is ...\n",
              "4373    Ur balance is now Â£600. Next question: Comple...\n",
              "333     Call Germany for only 1 pence per minute! Call...\n",
              "2297    <Forwarded from 21870000>Hi - this is your Mai...\n",
              "3778    Mila, age23, blonde, new in UK. I look sex wit...\n",
              "3391    Please CALL 08712402972 immediately as there i...\n",
              "3425    Am new 2 club & dont fink we met yet Will B gr...\n",
              "2699                            FROM 88066 LOST Â£12 HELP\n",
              "4587    Mila, age23, blonde, new in UK. I look sex wit...\n",
              "2071    Sexy Singles are waiting for you! Text your AG...\n",
              "2300    Congrats! 1 year special cinema pass for 2 is ...\n",
              "3766    Someone U know has asked our dating service 2 ...\n",
              "5200    Call Germany for only 1 pence per minute! Call...\n",
              "2295     You have 1 new message. Please call 08718738034.\n",
              "3587    I am hot n horny and willing I live local to y...\n",
              "4144    In The Simpsons Movie released in July 2007 na...\n",
              "1638    0A$NETWORKS allow companies to bill for SMS, s...\n",
              "1227    Reply with your name and address and YOU WILL ...\n",
              "1269    Can U get 2 phone NOW? I wanna chat 2 set up m...\n",
              "3564    Auction round 4. The highest bid is now Â£54. ...\n",
              "717                                               #ERROR!\n",
              "1196    You have 1 new voicemail. Please call 08719181503\n",
              "3460    Not heard from U4 a while. Call me now am here...\n",
              "4543    FreeMsg Hi baby wow just got a new cam moby. W...\n",
              "3302             RCT' THNQ Adrian for U text. Rgds Vatian\n",
              "Name: message, dtype: object"
            ]
          },
          "metadata": {},
          "execution_count": 129
        }
      ]
    },
    {
      "cell_type": "code",
      "source": [
        "def detect_spam(message):\n",
        "    return spam_filter.predict([message])[0]\n",
        "\n",
        "print(\"The message #1 is:\", detect_spam(\"Congratulations! You've won a $1,000 Walmart giftcard! Go to https://bit.ly/123456 to claim now!\"))\n",
        "print(\"The message #2 is:\", detect_spam(\"Hello son, it's dad. I've just wondered if you would come back home for Christmas. Love you.\"))\n",
        "print(\"The message #3 is:\", detect_spam(\"URGENT! You have won a 1 week FREE membership in our £100,000 Prize Jackpot! CLAIM to No: 81010 T&C www.dbuk.net\"))\n",
        "print(\"The message #4 is:\", detect_spam(\"XXXMobileMovieClub: To use your credit, click the WAP link in the next txt message or click here>> http://wap. xxxmobilemovieclub.com?n=QJKGIGHJJGCBL\"))\n",
        "print(\"The message #5 is:\", detect_spam(\"Bro where are you?\"))\n",
        "print(\"The message #6 is:\", detect_spam(\"I miss you so much, please come back to me :((. I swear I'm not gay.\"))"
      ],
      "metadata": {
        "colab": {
          "base_uri": "https://localhost:8080/"
        },
        "id": "Kh0DWJRSxZ9H",
        "outputId": "d64f4c14-dd57-4c45-d806-45b430f39845"
      },
      "execution_count": 130,
      "outputs": [
        {
          "output_type": "stream",
          "name": "stdout",
          "text": [
            "The message #1 is: spam\n",
            "The message #2 is: ham\n",
            "The message #3 is: spam\n",
            "The message #4 is: spam\n",
            "The message #5 is: ham\n",
            "The message #6 is: ham\n"
          ]
        }
      ]
    },
    {
      "cell_type": "code",
      "source": [
        "count = 0\n",
        "for i in range(len(y_test)):\n",
        "    if y_test.iloc[i] != predictions[i]:\n",
        "        count += 1\n",
        "print('Number of test cases:', len(y_test))\n",
        "print('Number of wrong predictions:', count)\n",
        "\n",
        "print('Accuracy of the classifier:', round((1 - (count / len(y_test))) * 100, 2), '%')"
      ],
      "metadata": {
        "colab": {
          "base_uri": "https://localhost:8080/"
        },
        "id": "6WmlTTSJ2aSd",
        "outputId": "8996c0e8-13cd-42a8-dc12-a378647d4c76"
      },
      "execution_count": 131,
      "outputs": [
        {
          "output_type": "stream",
          "name": "stdout",
          "text": [
            "Number of test cases: 1338\n",
            "Number of wrong predictions: 47\n",
            "Accuracy of the classifier: 96.49 %\n"
          ]
        }
      ]
    },
    {
      "cell_type": "code",
      "source": [
        "print(classification_report(predictions, y_test))"
      ],
      "metadata": {
        "colab": {
          "base_uri": "https://localhost:8080/"
        },
        "id": "aEjtRcOFuC2z",
        "outputId": "a7a94840-e5c1-4a8a-8393-af2b0cb2fe6f"
      },
      "execution_count": 132,
      "outputs": [
        {
          "output_type": "stream",
          "name": "stdout",
          "text": [
            "              precision    recall  f1-score   support\n",
            "\n",
            "         ham       1.00      0.96      0.98      1200\n",
            "        spam       0.75      0.99      0.85       138\n",
            "\n",
            "    accuracy                           0.96      1338\n",
            "   macro avg       0.87      0.98      0.92      1338\n",
            "weighted avg       0.97      0.96      0.97      1338\n",
            "\n"
          ]
        }
      ]
    }
  ]
}